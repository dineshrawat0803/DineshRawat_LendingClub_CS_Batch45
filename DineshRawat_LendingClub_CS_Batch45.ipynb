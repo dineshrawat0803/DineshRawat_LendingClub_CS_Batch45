{
 "cells": [
  {
   "cell_type": "code",
   "execution_count": 2,
   "id": "eab0a951",
   "metadata": {},
   "outputs": [
    {
     "name": "stderr",
     "output_type": "stream",
     "text": [
      "C:\\Users\\drawat01\\AppData\\Local\\Temp\\ipykernel_65472\\3364443076.py:4: DtypeWarning: Columns (47) have mixed types. Specify dtype option on import or set low_memory=False.\n",
      "  inp0 = pd.read_csv(\"loan.csv\")\n"
     ]
    },
    {
     "data": {
      "text/html": [
       "<div>\n",
       "<style scoped>\n",
       "    .dataframe tbody tr th:only-of-type {\n",
       "        vertical-align: middle;\n",
       "    }\n",
       "\n",
       "    .dataframe tbody tr th {\n",
       "        vertical-align: top;\n",
       "    }\n",
       "\n",
       "    .dataframe thead th {\n",
       "        text-align: right;\n",
       "    }\n",
       "</style>\n",
       "<table border=\"1\" class=\"dataframe\">\n",
       "  <thead>\n",
       "    <tr style=\"text-align: right;\">\n",
       "      <th></th>\n",
       "      <th>id</th>\n",
       "      <th>member_id</th>\n",
       "      <th>loan_amnt</th>\n",
       "      <th>funded_amnt</th>\n",
       "      <th>funded_amnt_inv</th>\n",
       "      <th>term</th>\n",
       "      <th>int_rate</th>\n",
       "      <th>installment</th>\n",
       "      <th>grade</th>\n",
       "      <th>sub_grade</th>\n",
       "      <th>...</th>\n",
       "      <th>num_tl_90g_dpd_24m</th>\n",
       "      <th>num_tl_op_past_12m</th>\n",
       "      <th>pct_tl_nvr_dlq</th>\n",
       "      <th>percent_bc_gt_75</th>\n",
       "      <th>pub_rec_bankruptcies</th>\n",
       "      <th>tax_liens</th>\n",
       "      <th>tot_hi_cred_lim</th>\n",
       "      <th>total_bal_ex_mort</th>\n",
       "      <th>total_bc_limit</th>\n",
       "      <th>total_il_high_credit_limit</th>\n",
       "    </tr>\n",
       "  </thead>\n",
       "  <tbody>\n",
       "    <tr>\n",
       "      <th>0</th>\n",
       "      <td>1077501</td>\n",
       "      <td>1296599</td>\n",
       "      <td>5000</td>\n",
       "      <td>5000</td>\n",
       "      <td>4975.0</td>\n",
       "      <td>36 months</td>\n",
       "      <td>10.65%</td>\n",
       "      <td>162.87</td>\n",
       "      <td>B</td>\n",
       "      <td>B2</td>\n",
       "      <td>...</td>\n",
       "      <td>NaN</td>\n",
       "      <td>NaN</td>\n",
       "      <td>NaN</td>\n",
       "      <td>NaN</td>\n",
       "      <td>0.0</td>\n",
       "      <td>0.0</td>\n",
       "      <td>NaN</td>\n",
       "      <td>NaN</td>\n",
       "      <td>NaN</td>\n",
       "      <td>NaN</td>\n",
       "    </tr>\n",
       "    <tr>\n",
       "      <th>1</th>\n",
       "      <td>1077430</td>\n",
       "      <td>1314167</td>\n",
       "      <td>2500</td>\n",
       "      <td>2500</td>\n",
       "      <td>2500.0</td>\n",
       "      <td>60 months</td>\n",
       "      <td>15.27%</td>\n",
       "      <td>59.83</td>\n",
       "      <td>C</td>\n",
       "      <td>C4</td>\n",
       "      <td>...</td>\n",
       "      <td>NaN</td>\n",
       "      <td>NaN</td>\n",
       "      <td>NaN</td>\n",
       "      <td>NaN</td>\n",
       "      <td>0.0</td>\n",
       "      <td>0.0</td>\n",
       "      <td>NaN</td>\n",
       "      <td>NaN</td>\n",
       "      <td>NaN</td>\n",
       "      <td>NaN</td>\n",
       "    </tr>\n",
       "    <tr>\n",
       "      <th>2</th>\n",
       "      <td>1077175</td>\n",
       "      <td>1313524</td>\n",
       "      <td>2400</td>\n",
       "      <td>2400</td>\n",
       "      <td>2400.0</td>\n",
       "      <td>36 months</td>\n",
       "      <td>15.96%</td>\n",
       "      <td>84.33</td>\n",
       "      <td>C</td>\n",
       "      <td>C5</td>\n",
       "      <td>...</td>\n",
       "      <td>NaN</td>\n",
       "      <td>NaN</td>\n",
       "      <td>NaN</td>\n",
       "      <td>NaN</td>\n",
       "      <td>0.0</td>\n",
       "      <td>0.0</td>\n",
       "      <td>NaN</td>\n",
       "      <td>NaN</td>\n",
       "      <td>NaN</td>\n",
       "      <td>NaN</td>\n",
       "    </tr>\n",
       "    <tr>\n",
       "      <th>3</th>\n",
       "      <td>1076863</td>\n",
       "      <td>1277178</td>\n",
       "      <td>10000</td>\n",
       "      <td>10000</td>\n",
       "      <td>10000.0</td>\n",
       "      <td>36 months</td>\n",
       "      <td>13.49%</td>\n",
       "      <td>339.31</td>\n",
       "      <td>C</td>\n",
       "      <td>C1</td>\n",
       "      <td>...</td>\n",
       "      <td>NaN</td>\n",
       "      <td>NaN</td>\n",
       "      <td>NaN</td>\n",
       "      <td>NaN</td>\n",
       "      <td>0.0</td>\n",
       "      <td>0.0</td>\n",
       "      <td>NaN</td>\n",
       "      <td>NaN</td>\n",
       "      <td>NaN</td>\n",
       "      <td>NaN</td>\n",
       "    </tr>\n",
       "    <tr>\n",
       "      <th>4</th>\n",
       "      <td>1075358</td>\n",
       "      <td>1311748</td>\n",
       "      <td>3000</td>\n",
       "      <td>3000</td>\n",
       "      <td>3000.0</td>\n",
       "      <td>60 months</td>\n",
       "      <td>12.69%</td>\n",
       "      <td>67.79</td>\n",
       "      <td>B</td>\n",
       "      <td>B5</td>\n",
       "      <td>...</td>\n",
       "      <td>NaN</td>\n",
       "      <td>NaN</td>\n",
       "      <td>NaN</td>\n",
       "      <td>NaN</td>\n",
       "      <td>0.0</td>\n",
       "      <td>0.0</td>\n",
       "      <td>NaN</td>\n",
       "      <td>NaN</td>\n",
       "      <td>NaN</td>\n",
       "      <td>NaN</td>\n",
       "    </tr>\n",
       "  </tbody>\n",
       "</table>\n",
       "<p>5 rows × 111 columns</p>\n",
       "</div>"
      ],
      "text/plain": [
       "        id  member_id  loan_amnt  funded_amnt  funded_amnt_inv        term  \\\n",
       "0  1077501    1296599       5000         5000           4975.0   36 months   \n",
       "1  1077430    1314167       2500         2500           2500.0   60 months   \n",
       "2  1077175    1313524       2400         2400           2400.0   36 months   \n",
       "3  1076863    1277178      10000        10000          10000.0   36 months   \n",
       "4  1075358    1311748       3000         3000           3000.0   60 months   \n",
       "\n",
       "  int_rate  installment grade sub_grade  ... num_tl_90g_dpd_24m  \\\n",
       "0   10.65%       162.87     B        B2  ...                NaN   \n",
       "1   15.27%        59.83     C        C4  ...                NaN   \n",
       "2   15.96%        84.33     C        C5  ...                NaN   \n",
       "3   13.49%       339.31     C        C1  ...                NaN   \n",
       "4   12.69%        67.79     B        B5  ...                NaN   \n",
       "\n",
       "  num_tl_op_past_12m pct_tl_nvr_dlq  percent_bc_gt_75 pub_rec_bankruptcies  \\\n",
       "0                NaN            NaN               NaN                  0.0   \n",
       "1                NaN            NaN               NaN                  0.0   \n",
       "2                NaN            NaN               NaN                  0.0   \n",
       "3                NaN            NaN               NaN                  0.0   \n",
       "4                NaN            NaN               NaN                  0.0   \n",
       "\n",
       "  tax_liens tot_hi_cred_lim total_bal_ex_mort total_bc_limit  \\\n",
       "0       0.0             NaN               NaN            NaN   \n",
       "1       0.0             NaN               NaN            NaN   \n",
       "2       0.0             NaN               NaN            NaN   \n",
       "3       0.0             NaN               NaN            NaN   \n",
       "4       0.0             NaN               NaN            NaN   \n",
       "\n",
       "  total_il_high_credit_limit  \n",
       "0                        NaN  \n",
       "1                        NaN  \n",
       "2                        NaN  \n",
       "3                        NaN  \n",
       "4                        NaN  \n",
       "\n",
       "[5 rows x 111 columns]"
      ]
     },
     "execution_count": 2,
     "metadata": {},
     "output_type": "execute_result"
    }
   ],
   "source": [
    "# Lending Club Case Study - November 2022 Assignment\n",
    "# Here we are passing the loan.csv file to pandas dataframe inp0 and checking that its passed correctly byb peinting the few head values\n",
    "import pandas as pd, numpy as np\n",
    "import statistics  # to find mode value\n",
    "inp0 = pd.read_csv(\"loan.csv\")\n",
    "inp0.head()"
   ]
  },
  {
   "cell_type": "code",
   "execution_count": 3,
   "id": "d3ed682e",
   "metadata": {},
   "outputs": [
    {
     "data": {
      "text/plain": [
       "Index(['id', 'member_id', 'loan_amnt', 'funded_amnt', 'funded_amnt_inv',\n",
       "       'term', 'int_rate', 'installment', 'grade', 'sub_grade',\n",
       "       ...\n",
       "       'num_tl_90g_dpd_24m', 'num_tl_op_past_12m', 'pct_tl_nvr_dlq',\n",
       "       'percent_bc_gt_75', 'pub_rec_bankruptcies', 'tax_liens',\n",
       "       'tot_hi_cred_lim', 'total_bal_ex_mort', 'total_bc_limit',\n",
       "       'total_il_high_credit_limit'],\n",
       "      dtype='object', length=111)"
      ]
     },
     "execution_count": 3,
     "metadata": {},
     "output_type": "execute_result"
    }
   ],
   "source": [
    "# taking a look at the columns in the loan.csv\n",
    "inp0.columns"
   ]
  },
  {
   "cell_type": "code",
   "execution_count": 4,
   "id": "f7a763cc",
   "metadata": {},
   "outputs": [
    {
     "data": {
      "text/plain": [
       "(39717, 111)"
      ]
     },
     "execution_count": 4,
     "metadata": {},
     "output_type": "execute_result"
    }
   ],
   "source": [
    "# checking for the number of rows and columns in loan.csv\n",
    "inp0.shape"
   ]
  },
  {
   "cell_type": "code",
   "execution_count": 5,
   "id": "65ee7faf",
   "metadata": {},
   "outputs": [
    {
     "name": "stdout",
     "output_type": "stream",
     "text": [
      "<class 'pandas.core.frame.DataFrame'>\n",
      "RangeIndex: 39717 entries, 0 to 39716\n",
      "Columns: 111 entries, id to total_il_high_credit_limit\n",
      "dtypes: float64(74), int64(13), object(24)\n",
      "memory usage: 33.6+ MB\n"
     ]
    }
   ],
   "source": [
    "# taking a quick check on information\n",
    "inp0.info()"
   ]
  },
  {
   "cell_type": "code",
   "execution_count": 9,
   "id": "2e70971f",
   "metadata": {},
   "outputs": [],
   "source": [
    "# Data Cleaning function creation #\n",
    "# following function created to identify the %age of null values contained in each variable/column of loan.csv #\n",
    "# this helps us in identifying the number of columns which has around 90% of null values #\n",
    "# any column having around 90% of null values can then be considered to drop from data analysis #\n",
    "def missingdata_percentage (df):\n",
    "    missing = pd.DataFrame(columns=['category', 'percentage'])\n",
    "    for col in df.columns:\n",
    "        if df[col].isna().values.any():\n",
    "            percentage = 100 * df[col].isna().sum()/df.shape[0]\n",
    "            missing = missing.append({'category' : col, 'percentage' : percentage}, ignore_index=True)\n",
    "    return missing"
   ]
  },
  {
   "cell_type": "code",
   "execution_count": 10,
   "id": "b9b36511",
   "metadata": {},
   "outputs": [
    {
     "name": "stderr",
     "output_type": "stream",
     "text": [
      "C:\\Users\\drawat01\\AppData\\Local\\Temp\\ipykernel_65472\\2290059488.py:6: FutureWarning: The frame.append method is deprecated and will be removed from pandas in a future version. Use pandas.concat instead.\n",
      "  missing = missing.append({'category' : col, 'percentage' : percentage}, ignore_index=True)\n",
      "C:\\Users\\drawat01\\AppData\\Local\\Temp\\ipykernel_65472\\2290059488.py:6: FutureWarning: The frame.append method is deprecated and will be removed from pandas in a future version. Use pandas.concat instead.\n",
      "  missing = missing.append({'category' : col, 'percentage' : percentage}, ignore_index=True)\n",
      "C:\\Users\\drawat01\\AppData\\Local\\Temp\\ipykernel_65472\\2290059488.py:6: FutureWarning: The frame.append method is deprecated and will be removed from pandas in a future version. Use pandas.concat instead.\n",
      "  missing = missing.append({'category' : col, 'percentage' : percentage}, ignore_index=True)\n",
      "C:\\Users\\drawat01\\AppData\\Local\\Temp\\ipykernel_65472\\2290059488.py:6: FutureWarning: The frame.append method is deprecated and will be removed from pandas in a future version. Use pandas.concat instead.\n",
      "  missing = missing.append({'category' : col, 'percentage' : percentage}, ignore_index=True)\n",
      "C:\\Users\\drawat01\\AppData\\Local\\Temp\\ipykernel_65472\\2290059488.py:6: FutureWarning: The frame.append method is deprecated and will be removed from pandas in a future version. Use pandas.concat instead.\n",
      "  missing = missing.append({'category' : col, 'percentage' : percentage}, ignore_index=True)\n",
      "C:\\Users\\drawat01\\AppData\\Local\\Temp\\ipykernel_65472\\2290059488.py:6: FutureWarning: The frame.append method is deprecated and will be removed from pandas in a future version. Use pandas.concat instead.\n",
      "  missing = missing.append({'category' : col, 'percentage' : percentage}, ignore_index=True)\n",
      "C:\\Users\\drawat01\\AppData\\Local\\Temp\\ipykernel_65472\\2290059488.py:6: FutureWarning: The frame.append method is deprecated and will be removed from pandas in a future version. Use pandas.concat instead.\n",
      "  missing = missing.append({'category' : col, 'percentage' : percentage}, ignore_index=True)\n",
      "C:\\Users\\drawat01\\AppData\\Local\\Temp\\ipykernel_65472\\2290059488.py:6: FutureWarning: The frame.append method is deprecated and will be removed from pandas in a future version. Use pandas.concat instead.\n",
      "  missing = missing.append({'category' : col, 'percentage' : percentage}, ignore_index=True)\n",
      "C:\\Users\\drawat01\\AppData\\Local\\Temp\\ipykernel_65472\\2290059488.py:6: FutureWarning: The frame.append method is deprecated and will be removed from pandas in a future version. Use pandas.concat instead.\n",
      "  missing = missing.append({'category' : col, 'percentage' : percentage}, ignore_index=True)\n",
      "C:\\Users\\drawat01\\AppData\\Local\\Temp\\ipykernel_65472\\2290059488.py:6: FutureWarning: The frame.append method is deprecated and will be removed from pandas in a future version. Use pandas.concat instead.\n",
      "  missing = missing.append({'category' : col, 'percentage' : percentage}, ignore_index=True)\n",
      "C:\\Users\\drawat01\\AppData\\Local\\Temp\\ipykernel_65472\\2290059488.py:6: FutureWarning: The frame.append method is deprecated and will be removed from pandas in a future version. Use pandas.concat instead.\n",
      "  missing = missing.append({'category' : col, 'percentage' : percentage}, ignore_index=True)\n",
      "C:\\Users\\drawat01\\AppData\\Local\\Temp\\ipykernel_65472\\2290059488.py:6: FutureWarning: The frame.append method is deprecated and will be removed from pandas in a future version. Use pandas.concat instead.\n",
      "  missing = missing.append({'category' : col, 'percentage' : percentage}, ignore_index=True)\n",
      "C:\\Users\\drawat01\\AppData\\Local\\Temp\\ipykernel_65472\\2290059488.py:6: FutureWarning: The frame.append method is deprecated and will be removed from pandas in a future version. Use pandas.concat instead.\n",
      "  missing = missing.append({'category' : col, 'percentage' : percentage}, ignore_index=True)\n",
      "C:\\Users\\drawat01\\AppData\\Local\\Temp\\ipykernel_65472\\2290059488.py:6: FutureWarning: The frame.append method is deprecated and will be removed from pandas in a future version. Use pandas.concat instead.\n",
      "  missing = missing.append({'category' : col, 'percentage' : percentage}, ignore_index=True)\n",
      "C:\\Users\\drawat01\\AppData\\Local\\Temp\\ipykernel_65472\\2290059488.py:6: FutureWarning: The frame.append method is deprecated and will be removed from pandas in a future version. Use pandas.concat instead.\n",
      "  missing = missing.append({'category' : col, 'percentage' : percentage}, ignore_index=True)\n",
      "C:\\Users\\drawat01\\AppData\\Local\\Temp\\ipykernel_65472\\2290059488.py:6: FutureWarning: The frame.append method is deprecated and will be removed from pandas in a future version. Use pandas.concat instead.\n",
      "  missing = missing.append({'category' : col, 'percentage' : percentage}, ignore_index=True)\n",
      "C:\\Users\\drawat01\\AppData\\Local\\Temp\\ipykernel_65472\\2290059488.py:6: FutureWarning: The frame.append method is deprecated and will be removed from pandas in a future version. Use pandas.concat instead.\n",
      "  missing = missing.append({'category' : col, 'percentage' : percentage}, ignore_index=True)\n",
      "C:\\Users\\drawat01\\AppData\\Local\\Temp\\ipykernel_65472\\2290059488.py:6: FutureWarning: The frame.append method is deprecated and will be removed from pandas in a future version. Use pandas.concat instead.\n",
      "  missing = missing.append({'category' : col, 'percentage' : percentage}, ignore_index=True)\n",
      "C:\\Users\\drawat01\\AppData\\Local\\Temp\\ipykernel_65472\\2290059488.py:6: FutureWarning: The frame.append method is deprecated and will be removed from pandas in a future version. Use pandas.concat instead.\n",
      "  missing = missing.append({'category' : col, 'percentage' : percentage}, ignore_index=True)\n",
      "C:\\Users\\drawat01\\AppData\\Local\\Temp\\ipykernel_65472\\2290059488.py:6: FutureWarning: The frame.append method is deprecated and will be removed from pandas in a future version. Use pandas.concat instead.\n",
      "  missing = missing.append({'category' : col, 'percentage' : percentage}, ignore_index=True)\n",
      "C:\\Users\\drawat01\\AppData\\Local\\Temp\\ipykernel_65472\\2290059488.py:6: FutureWarning: The frame.append method is deprecated and will be removed from pandas in a future version. Use pandas.concat instead.\n",
      "  missing = missing.append({'category' : col, 'percentage' : percentage}, ignore_index=True)\n",
      "C:\\Users\\drawat01\\AppData\\Local\\Temp\\ipykernel_65472\\2290059488.py:6: FutureWarning: The frame.append method is deprecated and will be removed from pandas in a future version. Use pandas.concat instead.\n",
      "  missing = missing.append({'category' : col, 'percentage' : percentage}, ignore_index=True)\n",
      "C:\\Users\\drawat01\\AppData\\Local\\Temp\\ipykernel_65472\\2290059488.py:6: FutureWarning: The frame.append method is deprecated and will be removed from pandas in a future version. Use pandas.concat instead.\n",
      "  missing = missing.append({'category' : col, 'percentage' : percentage}, ignore_index=True)\n",
      "C:\\Users\\drawat01\\AppData\\Local\\Temp\\ipykernel_65472\\2290059488.py:6: FutureWarning: The frame.append method is deprecated and will be removed from pandas in a future version. Use pandas.concat instead.\n",
      "  missing = missing.append({'category' : col, 'percentage' : percentage}, ignore_index=True)\n",
      "C:\\Users\\drawat01\\AppData\\Local\\Temp\\ipykernel_65472\\2290059488.py:6: FutureWarning: The frame.append method is deprecated and will be removed from pandas in a future version. Use pandas.concat instead.\n",
      "  missing = missing.append({'category' : col, 'percentage' : percentage}, ignore_index=True)\n",
      "C:\\Users\\drawat01\\AppData\\Local\\Temp\\ipykernel_65472\\2290059488.py:6: FutureWarning: The frame.append method is deprecated and will be removed from pandas in a future version. Use pandas.concat instead.\n",
      "  missing = missing.append({'category' : col, 'percentage' : percentage}, ignore_index=True)\n",
      "C:\\Users\\drawat01\\AppData\\Local\\Temp\\ipykernel_65472\\2290059488.py:6: FutureWarning: The frame.append method is deprecated and will be removed from pandas in a future version. Use pandas.concat instead.\n",
      "  missing = missing.append({'category' : col, 'percentage' : percentage}, ignore_index=True)\n",
      "C:\\Users\\drawat01\\AppData\\Local\\Temp\\ipykernel_65472\\2290059488.py:6: FutureWarning: The frame.append method is deprecated and will be removed from pandas in a future version. Use pandas.concat instead.\n",
      "  missing = missing.append({'category' : col, 'percentage' : percentage}, ignore_index=True)\n",
      "C:\\Users\\drawat01\\AppData\\Local\\Temp\\ipykernel_65472\\2290059488.py:6: FutureWarning: The frame.append method is deprecated and will be removed from pandas in a future version. Use pandas.concat instead.\n",
      "  missing = missing.append({'category' : col, 'percentage' : percentage}, ignore_index=True)\n",
      "C:\\Users\\drawat01\\AppData\\Local\\Temp\\ipykernel_65472\\2290059488.py:6: FutureWarning: The frame.append method is deprecated and will be removed from pandas in a future version. Use pandas.concat instead.\n",
      "  missing = missing.append({'category' : col, 'percentage' : percentage}, ignore_index=True)\n",
      "C:\\Users\\drawat01\\AppData\\Local\\Temp\\ipykernel_65472\\2290059488.py:6: FutureWarning: The frame.append method is deprecated and will be removed from pandas in a future version. Use pandas.concat instead.\n",
      "  missing = missing.append({'category' : col, 'percentage' : percentage}, ignore_index=True)\n",
      "C:\\Users\\drawat01\\AppData\\Local\\Temp\\ipykernel_65472\\2290059488.py:6: FutureWarning: The frame.append method is deprecated and will be removed from pandas in a future version. Use pandas.concat instead.\n",
      "  missing = missing.append({'category' : col, 'percentage' : percentage}, ignore_index=True)\n",
      "C:\\Users\\drawat01\\AppData\\Local\\Temp\\ipykernel_65472\\2290059488.py:6: FutureWarning: The frame.append method is deprecated and will be removed from pandas in a future version. Use pandas.concat instead.\n",
      "  missing = missing.append({'category' : col, 'percentage' : percentage}, ignore_index=True)\n",
      "C:\\Users\\drawat01\\AppData\\Local\\Temp\\ipykernel_65472\\2290059488.py:6: FutureWarning: The frame.append method is deprecated and will be removed from pandas in a future version. Use pandas.concat instead.\n",
      "  missing = missing.append({'category' : col, 'percentage' : percentage}, ignore_index=True)\n",
      "C:\\Users\\drawat01\\AppData\\Local\\Temp\\ipykernel_65472\\2290059488.py:6: FutureWarning: The frame.append method is deprecated and will be removed from pandas in a future version. Use pandas.concat instead.\n",
      "  missing = missing.append({'category' : col, 'percentage' : percentage}, ignore_index=True)\n",
      "C:\\Users\\drawat01\\AppData\\Local\\Temp\\ipykernel_65472\\2290059488.py:6: FutureWarning: The frame.append method is deprecated and will be removed from pandas in a future version. Use pandas.concat instead.\n",
      "  missing = missing.append({'category' : col, 'percentage' : percentage}, ignore_index=True)\n",
      "C:\\Users\\drawat01\\AppData\\Local\\Temp\\ipykernel_65472\\2290059488.py:6: FutureWarning: The frame.append method is deprecated and will be removed from pandas in a future version. Use pandas.concat instead.\n",
      "  missing = missing.append({'category' : col, 'percentage' : percentage}, ignore_index=True)\n",
      "C:\\Users\\drawat01\\AppData\\Local\\Temp\\ipykernel_65472\\2290059488.py:6: FutureWarning: The frame.append method is deprecated and will be removed from pandas in a future version. Use pandas.concat instead.\n",
      "  missing = missing.append({'category' : col, 'percentage' : percentage}, ignore_index=True)\n",
      "C:\\Users\\drawat01\\AppData\\Local\\Temp\\ipykernel_65472\\2290059488.py:6: FutureWarning: The frame.append method is deprecated and will be removed from pandas in a future version. Use pandas.concat instead.\n",
      "  missing = missing.append({'category' : col, 'percentage' : percentage}, ignore_index=True)\n",
      "C:\\Users\\drawat01\\AppData\\Local\\Temp\\ipykernel_65472\\2290059488.py:6: FutureWarning: The frame.append method is deprecated and will be removed from pandas in a future version. Use pandas.concat instead.\n",
      "  missing = missing.append({'category' : col, 'percentage' : percentage}, ignore_index=True)\n",
      "C:\\Users\\drawat01\\AppData\\Local\\Temp\\ipykernel_65472\\2290059488.py:6: FutureWarning: The frame.append method is deprecated and will be removed from pandas in a future version. Use pandas.concat instead.\n",
      "  missing = missing.append({'category' : col, 'percentage' : percentage}, ignore_index=True)\n",
      "C:\\Users\\drawat01\\AppData\\Local\\Temp\\ipykernel_65472\\2290059488.py:6: FutureWarning: The frame.append method is deprecated and will be removed from pandas in a future version. Use pandas.concat instead.\n",
      "  missing = missing.append({'category' : col, 'percentage' : percentage}, ignore_index=True)\n",
      "C:\\Users\\drawat01\\AppData\\Local\\Temp\\ipykernel_65472\\2290059488.py:6: FutureWarning: The frame.append method is deprecated and will be removed from pandas in a future version. Use pandas.concat instead.\n",
      "  missing = missing.append({'category' : col, 'percentage' : percentage}, ignore_index=True)\n"
     ]
    },
    {
     "name": "stderr",
     "output_type": "stream",
     "text": [
      "C:\\Users\\drawat01\\AppData\\Local\\Temp\\ipykernel_65472\\2290059488.py:6: FutureWarning: The frame.append method is deprecated and will be removed from pandas in a future version. Use pandas.concat instead.\n",
      "  missing = missing.append({'category' : col, 'percentage' : percentage}, ignore_index=True)\n",
      "C:\\Users\\drawat01\\AppData\\Local\\Temp\\ipykernel_65472\\2290059488.py:6: FutureWarning: The frame.append method is deprecated and will be removed from pandas in a future version. Use pandas.concat instead.\n",
      "  missing = missing.append({'category' : col, 'percentage' : percentage}, ignore_index=True)\n",
      "C:\\Users\\drawat01\\AppData\\Local\\Temp\\ipykernel_65472\\2290059488.py:6: FutureWarning: The frame.append method is deprecated and will be removed from pandas in a future version. Use pandas.concat instead.\n",
      "  missing = missing.append({'category' : col, 'percentage' : percentage}, ignore_index=True)\n",
      "C:\\Users\\drawat01\\AppData\\Local\\Temp\\ipykernel_65472\\2290059488.py:6: FutureWarning: The frame.append method is deprecated and will be removed from pandas in a future version. Use pandas.concat instead.\n",
      "  missing = missing.append({'category' : col, 'percentage' : percentage}, ignore_index=True)\n",
      "C:\\Users\\drawat01\\AppData\\Local\\Temp\\ipykernel_65472\\2290059488.py:6: FutureWarning: The frame.append method is deprecated and will be removed from pandas in a future version. Use pandas.concat instead.\n",
      "  missing = missing.append({'category' : col, 'percentage' : percentage}, ignore_index=True)\n",
      "C:\\Users\\drawat01\\AppData\\Local\\Temp\\ipykernel_65472\\2290059488.py:6: FutureWarning: The frame.append method is deprecated and will be removed from pandas in a future version. Use pandas.concat instead.\n",
      "  missing = missing.append({'category' : col, 'percentage' : percentage}, ignore_index=True)\n",
      "C:\\Users\\drawat01\\AppData\\Local\\Temp\\ipykernel_65472\\2290059488.py:6: FutureWarning: The frame.append method is deprecated and will be removed from pandas in a future version. Use pandas.concat instead.\n",
      "  missing = missing.append({'category' : col, 'percentage' : percentage}, ignore_index=True)\n",
      "C:\\Users\\drawat01\\AppData\\Local\\Temp\\ipykernel_65472\\2290059488.py:6: FutureWarning: The frame.append method is deprecated and will be removed from pandas in a future version. Use pandas.concat instead.\n",
      "  missing = missing.append({'category' : col, 'percentage' : percentage}, ignore_index=True)\n",
      "C:\\Users\\drawat01\\AppData\\Local\\Temp\\ipykernel_65472\\2290059488.py:6: FutureWarning: The frame.append method is deprecated and will be removed from pandas in a future version. Use pandas.concat instead.\n",
      "  missing = missing.append({'category' : col, 'percentage' : percentage}, ignore_index=True)\n",
      "C:\\Users\\drawat01\\AppData\\Local\\Temp\\ipykernel_65472\\2290059488.py:6: FutureWarning: The frame.append method is deprecated and will be removed from pandas in a future version. Use pandas.concat instead.\n",
      "  missing = missing.append({'category' : col, 'percentage' : percentage}, ignore_index=True)\n",
      "C:\\Users\\drawat01\\AppData\\Local\\Temp\\ipykernel_65472\\2290059488.py:6: FutureWarning: The frame.append method is deprecated and will be removed from pandas in a future version. Use pandas.concat instead.\n",
      "  missing = missing.append({'category' : col, 'percentage' : percentage}, ignore_index=True)\n",
      "C:\\Users\\drawat01\\AppData\\Local\\Temp\\ipykernel_65472\\2290059488.py:6: FutureWarning: The frame.append method is deprecated and will be removed from pandas in a future version. Use pandas.concat instead.\n",
      "  missing = missing.append({'category' : col, 'percentage' : percentage}, ignore_index=True)\n",
      "C:\\Users\\drawat01\\AppData\\Local\\Temp\\ipykernel_65472\\2290059488.py:6: FutureWarning: The frame.append method is deprecated and will be removed from pandas in a future version. Use pandas.concat instead.\n",
      "  missing = missing.append({'category' : col, 'percentage' : percentage}, ignore_index=True)\n",
      "C:\\Users\\drawat01\\AppData\\Local\\Temp\\ipykernel_65472\\2290059488.py:6: FutureWarning: The frame.append method is deprecated and will be removed from pandas in a future version. Use pandas.concat instead.\n",
      "  missing = missing.append({'category' : col, 'percentage' : percentage}, ignore_index=True)\n",
      "C:\\Users\\drawat01\\AppData\\Local\\Temp\\ipykernel_65472\\2290059488.py:6: FutureWarning: The frame.append method is deprecated and will be removed from pandas in a future version. Use pandas.concat instead.\n",
      "  missing = missing.append({'category' : col, 'percentage' : percentage}, ignore_index=True)\n",
      "C:\\Users\\drawat01\\AppData\\Local\\Temp\\ipykernel_65472\\2290059488.py:6: FutureWarning: The frame.append method is deprecated and will be removed from pandas in a future version. Use pandas.concat instead.\n",
      "  missing = missing.append({'category' : col, 'percentage' : percentage}, ignore_index=True)\n",
      "C:\\Users\\drawat01\\AppData\\Local\\Temp\\ipykernel_65472\\2290059488.py:6: FutureWarning: The frame.append method is deprecated and will be removed from pandas in a future version. Use pandas.concat instead.\n",
      "  missing = missing.append({'category' : col, 'percentage' : percentage}, ignore_index=True)\n",
      "C:\\Users\\drawat01\\AppData\\Local\\Temp\\ipykernel_65472\\2290059488.py:6: FutureWarning: The frame.append method is deprecated and will be removed from pandas in a future version. Use pandas.concat instead.\n",
      "  missing = missing.append({'category' : col, 'percentage' : percentage}, ignore_index=True)\n",
      "C:\\Users\\drawat01\\AppData\\Local\\Temp\\ipykernel_65472\\2290059488.py:6: FutureWarning: The frame.append method is deprecated and will be removed from pandas in a future version. Use pandas.concat instead.\n",
      "  missing = missing.append({'category' : col, 'percentage' : percentage}, ignore_index=True)\n",
      "C:\\Users\\drawat01\\AppData\\Local\\Temp\\ipykernel_65472\\2290059488.py:6: FutureWarning: The frame.append method is deprecated and will be removed from pandas in a future version. Use pandas.concat instead.\n",
      "  missing = missing.append({'category' : col, 'percentage' : percentage}, ignore_index=True)\n",
      "C:\\Users\\drawat01\\AppData\\Local\\Temp\\ipykernel_65472\\2290059488.py:6: FutureWarning: The frame.append method is deprecated and will be removed from pandas in a future version. Use pandas.concat instead.\n",
      "  missing = missing.append({'category' : col, 'percentage' : percentage}, ignore_index=True)\n",
      "C:\\Users\\drawat01\\AppData\\Local\\Temp\\ipykernel_65472\\2290059488.py:6: FutureWarning: The frame.append method is deprecated and will be removed from pandas in a future version. Use pandas.concat instead.\n",
      "  missing = missing.append({'category' : col, 'percentage' : percentage}, ignore_index=True)\n",
      "C:\\Users\\drawat01\\AppData\\Local\\Temp\\ipykernel_65472\\2290059488.py:6: FutureWarning: The frame.append method is deprecated and will be removed from pandas in a future version. Use pandas.concat instead.\n",
      "  missing = missing.append({'category' : col, 'percentage' : percentage}, ignore_index=True)\n",
      "C:\\Users\\drawat01\\AppData\\Local\\Temp\\ipykernel_65472\\2290059488.py:6: FutureWarning: The frame.append method is deprecated and will be removed from pandas in a future version. Use pandas.concat instead.\n",
      "  missing = missing.append({'category' : col, 'percentage' : percentage}, ignore_index=True)\n",
      "C:\\Users\\drawat01\\AppData\\Local\\Temp\\ipykernel_65472\\2290059488.py:6: FutureWarning: The frame.append method is deprecated and will be removed from pandas in a future version. Use pandas.concat instead.\n",
      "  missing = missing.append({'category' : col, 'percentage' : percentage}, ignore_index=True)\n"
     ]
    }
   ],
   "source": [
    "ms_percent = missingdata_percentage (inp0)"
   ]
  },
  {
   "cell_type": "code",
   "execution_count": 11,
   "id": "19f66090",
   "metadata": {},
   "outputs": [
    {
     "data": {
      "text/html": [
       "<div>\n",
       "<style scoped>\n",
       "    .dataframe tbody tr th:only-of-type {\n",
       "        vertical-align: middle;\n",
       "    }\n",
       "\n",
       "    .dataframe tbody tr th {\n",
       "        vertical-align: top;\n",
       "    }\n",
       "\n",
       "    .dataframe thead th {\n",
       "        text-align: right;\n",
       "    }\n",
       "</style>\n",
       "<table border=\"1\" class=\"dataframe\">\n",
       "  <thead>\n",
       "    <tr style=\"text-align: right;\">\n",
       "      <th></th>\n",
       "      <th>category</th>\n",
       "      <th>percentage</th>\n",
       "    </tr>\n",
       "  </thead>\n",
       "  <tbody>\n",
       "    <tr>\n",
       "      <th>34</th>\n",
       "      <td>bc_open_to_buy</td>\n",
       "      <td>100.0</td>\n",
       "    </tr>\n",
       "    <tr>\n",
       "      <th>32</th>\n",
       "      <td>acc_open_past_24mths</td>\n",
       "      <td>100.0</td>\n",
       "    </tr>\n",
       "    <tr>\n",
       "      <th>35</th>\n",
       "      <td>bc_util</td>\n",
       "      <td>100.0</td>\n",
       "    </tr>\n",
       "    <tr>\n",
       "      <th>37</th>\n",
       "      <td>mo_sin_old_il_acct</td>\n",
       "      <td>100.0</td>\n",
       "    </tr>\n",
       "    <tr>\n",
       "      <th>38</th>\n",
       "      <td>mo_sin_old_rev_tl_op</td>\n",
       "      <td>100.0</td>\n",
       "    </tr>\n",
       "    <tr>\n",
       "      <th>...</th>\n",
       "      <td>...</td>\n",
       "      <td>...</td>\n",
       "    </tr>\n",
       "    <tr>\n",
       "      <th>10</th>\n",
       "      <td>collections_12_mths_ex_med</td>\n",
       "      <td>0.140998</td>\n",
       "    </tr>\n",
       "    <tr>\n",
       "      <th>6</th>\n",
       "      <td>revol_util</td>\n",
       "      <td>0.125891</td>\n",
       "    </tr>\n",
       "    <tr>\n",
       "      <th>63</th>\n",
       "      <td>tax_liens</td>\n",
       "      <td>0.098195</td>\n",
       "    </tr>\n",
       "    <tr>\n",
       "      <th>3</th>\n",
       "      <td>title</td>\n",
       "      <td>0.027696</td>\n",
       "    </tr>\n",
       "    <tr>\n",
       "      <th>9</th>\n",
       "      <td>last_credit_pull_d</td>\n",
       "      <td>0.005036</td>\n",
       "    </tr>\n",
       "  </tbody>\n",
       "</table>\n",
       "<p>68 rows × 2 columns</p>\n",
       "</div>"
      ],
      "text/plain": [
       "                      category percentage\n",
       "34              bc_open_to_buy      100.0\n",
       "32        acc_open_past_24mths      100.0\n",
       "35                     bc_util      100.0\n",
       "37          mo_sin_old_il_acct      100.0\n",
       "38        mo_sin_old_rev_tl_op      100.0\n",
       "..                         ...        ...\n",
       "10  collections_12_mths_ex_med   0.140998\n",
       "6                   revol_util   0.125891\n",
       "63                   tax_liens   0.098195\n",
       "3                        title   0.027696\n",
       "9           last_credit_pull_d   0.005036\n",
       "\n",
       "[68 rows x 2 columns]"
      ]
     },
     "execution_count": 11,
     "metadata": {},
     "output_type": "execute_result"
    }
   ],
   "source": [
    "ms_percent.sort_values('percentage', ascending=False)"
   ]
  },
  {
   "cell_type": "code",
   "execution_count": 19,
   "id": "17e175fe",
   "metadata": {},
   "outputs": [],
   "source": [
    "dp_colset_1 = ['annual_inc_joint', 'dti_joint', 'verification_status_joint',\n",
    "               'acc_now_delinq', 'tot_coll_amt', 'tot_cur_bal', 'open_acc_6m', 'open_il_6m',\n",
    "               'open_il_12m', 'open_il_24m', 'mths_since_rcnt_il', 'total_bal_il', 'il_util',\n",
    "               'open_rv_12m', 'open_rv_24m', 'max_bal_bc', 'all_util', 'total_rev_hi_lim',\n",
    "               'inq_fi', 'total_cu_tl', 'inq_last_12m', 'acc_open_past_24mths', \n",
    "               'avg_cur_bal', 'bc_open_to_buy', 'bc_util']"
   ]
  },
  {
   "cell_type": "code",
   "execution_count": 20,
   "id": "a12747d1",
   "metadata": {},
   "outputs": [
    {
     "ename": "AttributeError",
     "evalue": "'list' object has no attribute 'columns'",
     "output_type": "error",
     "traceback": [
      "\u001b[1;31m---------------------------------------------------------------------------\u001b[0m",
      "\u001b[1;31mAttributeError\u001b[0m                            Traceback (most recent call last)",
      "Input \u001b[1;32mIn [20]\u001b[0m, in \u001b[0;36m<cell line: 1>\u001b[1;34m()\u001b[0m\n\u001b[1;32m----> 1\u001b[0m ms_percent \u001b[38;5;241m=\u001b[39m \u001b[43mmissingdata_percentage\u001b[49m\u001b[43m \u001b[49m\u001b[43m(\u001b[49m\u001b[43mdp_colset_1\u001b[49m\u001b[43m)\u001b[49m\n",
      "Input \u001b[1;32mIn [9]\u001b[0m, in \u001b[0;36mmissingdata_percentage\u001b[1;34m(df)\u001b[0m\n\u001b[0;32m      1\u001b[0m \u001b[38;5;28;01mdef\u001b[39;00m \u001b[38;5;21mmissingdata_percentage\u001b[39m (df):\n\u001b[0;32m      2\u001b[0m     missing \u001b[38;5;241m=\u001b[39m pd\u001b[38;5;241m.\u001b[39mDataFrame(columns\u001b[38;5;241m=\u001b[39m[\u001b[38;5;124m'\u001b[39m\u001b[38;5;124mcategory\u001b[39m\u001b[38;5;124m'\u001b[39m, \u001b[38;5;124m'\u001b[39m\u001b[38;5;124mpercentage\u001b[39m\u001b[38;5;124m'\u001b[39m])\n\u001b[1;32m----> 3\u001b[0m     \u001b[38;5;28;01mfor\u001b[39;00m col \u001b[38;5;129;01min\u001b[39;00m \u001b[43mdf\u001b[49m\u001b[38;5;241;43m.\u001b[39;49m\u001b[43mcolumns\u001b[49m:\n\u001b[0;32m      4\u001b[0m         \u001b[38;5;28;01mif\u001b[39;00m df[col]\u001b[38;5;241m.\u001b[39misna()\u001b[38;5;241m.\u001b[39mvalues\u001b[38;5;241m.\u001b[39many():\n\u001b[0;32m      5\u001b[0m             percentage \u001b[38;5;241m=\u001b[39m \u001b[38;5;241m100\u001b[39m \u001b[38;5;241m*\u001b[39m df[col]\u001b[38;5;241m.\u001b[39misna()\u001b[38;5;241m.\u001b[39msum()\u001b[38;5;241m/\u001b[39mdf\u001b[38;5;241m.\u001b[39mshape[\u001b[38;5;241m0\u001b[39m]\n",
      "\u001b[1;31mAttributeError\u001b[0m: 'list' object has no attribute 'columns'"
     ]
    }
   ],
   "source": [
    "ms_percent = missingdata_percentage (dp_colset_1)"
   ]
  },
  {
   "cell_type": "code",
   "execution_count": 21,
   "id": "32c6d8d9",
   "metadata": {},
   "outputs": [
    {
     "data": {
      "text/html": [
       "<div>\n",
       "<style scoped>\n",
       "    .dataframe tbody tr th:only-of-type {\n",
       "        vertical-align: middle;\n",
       "    }\n",
       "\n",
       "    .dataframe tbody tr th {\n",
       "        vertical-align: top;\n",
       "    }\n",
       "\n",
       "    .dataframe thead th {\n",
       "        text-align: right;\n",
       "    }\n",
       "</style>\n",
       "<table border=\"1\" class=\"dataframe\">\n",
       "  <thead>\n",
       "    <tr style=\"text-align: right;\">\n",
       "      <th></th>\n",
       "      <th>category</th>\n",
       "      <th>percentage</th>\n",
       "    </tr>\n",
       "  </thead>\n",
       "  <tbody>\n",
       "    <tr>\n",
       "      <th>34</th>\n",
       "      <td>bc_open_to_buy</td>\n",
       "      <td>100.0</td>\n",
       "    </tr>\n",
       "    <tr>\n",
       "      <th>32</th>\n",
       "      <td>acc_open_past_24mths</td>\n",
       "      <td>100.0</td>\n",
       "    </tr>\n",
       "    <tr>\n",
       "      <th>35</th>\n",
       "      <td>bc_util</td>\n",
       "      <td>100.0</td>\n",
       "    </tr>\n",
       "    <tr>\n",
       "      <th>37</th>\n",
       "      <td>mo_sin_old_il_acct</td>\n",
       "      <td>100.0</td>\n",
       "    </tr>\n",
       "    <tr>\n",
       "      <th>38</th>\n",
       "      <td>mo_sin_old_rev_tl_op</td>\n",
       "      <td>100.0</td>\n",
       "    </tr>\n",
       "    <tr>\n",
       "      <th>...</th>\n",
       "      <td>...</td>\n",
       "      <td>...</td>\n",
       "    </tr>\n",
       "    <tr>\n",
       "      <th>10</th>\n",
       "      <td>collections_12_mths_ex_med</td>\n",
       "      <td>0.140998</td>\n",
       "    </tr>\n",
       "    <tr>\n",
       "      <th>6</th>\n",
       "      <td>revol_util</td>\n",
       "      <td>0.125891</td>\n",
       "    </tr>\n",
       "    <tr>\n",
       "      <th>63</th>\n",
       "      <td>tax_liens</td>\n",
       "      <td>0.098195</td>\n",
       "    </tr>\n",
       "    <tr>\n",
       "      <th>3</th>\n",
       "      <td>title</td>\n",
       "      <td>0.027696</td>\n",
       "    </tr>\n",
       "    <tr>\n",
       "      <th>9</th>\n",
       "      <td>last_credit_pull_d</td>\n",
       "      <td>0.005036</td>\n",
       "    </tr>\n",
       "  </tbody>\n",
       "</table>\n",
       "<p>68 rows × 2 columns</p>\n",
       "</div>"
      ],
      "text/plain": [
       "                      category percentage\n",
       "34              bc_open_to_buy      100.0\n",
       "32        acc_open_past_24mths      100.0\n",
       "35                     bc_util      100.0\n",
       "37          mo_sin_old_il_acct      100.0\n",
       "38        mo_sin_old_rev_tl_op      100.0\n",
       "..                         ...        ...\n",
       "10  collections_12_mths_ex_med   0.140998\n",
       "6                   revol_util   0.125891\n",
       "63                   tax_liens   0.098195\n",
       "3                        title   0.027696\n",
       "9           last_credit_pull_d   0.005036\n",
       "\n",
       "[68 rows x 2 columns]"
      ]
     },
     "execution_count": 21,
     "metadata": {},
     "output_type": "execute_result"
    }
   ],
   "source": [
    "ms_percent.sort_values('percentage', ascending=False)"
   ]
  },
  {
   "cell_type": "code",
   "execution_count": 29,
   "id": "dc6e88a9",
   "metadata": {},
   "outputs": [],
   "source": [
    "drp_colset_2 = ['emp_title', 'issue_d', 'total_acc', 'initial_list_status', 'out_prncp', 'out_prncp_inv', 'total_pymnt', 'total_pymnt_inv', 'total_rec_prncp', 'total_rec_int', 'total_rec_late_fee', 'recoveries', 'collection_recovery_fee', 'last_pymnt_d', 'last_pymnt_amnt', 'next_pymnt_d', 'last_credit_pull_d', 'collections_12_mths_ex_med', 'mths_since_last_major_derog', 'policy_code', 'application_type', 'annual_inc_joint', 'dti_joint', 'verification_status_joint', 'acc_now_delinq', 'tot_coll_amt', 'tot_cur_bal', 'open_acc_6m', 'open_il_6m', 'open_il_12m', 'open_il_24m', 'mths_since_rcnt_il', 'total_bal_il', 'il_util', 'open_rv_12m', 'open_rv_24m', 'max_bal_bc', 'all_util', 'total_rev_hi_lim', 'inq_fi', 'total_cu_tl', 'inq_last_12m', 'acc_open_past_24mths', 'avg_cur_bal', 'bc_open_to_buy', 'bc_util', 'chargeoff_within_12_mths', 'delinq_amnt', 'mo_sin_old_il_acct', \n",
    "'mo_sin_old_rev_tl_op', 'mo_sin_rcnt_rev_tl_op', 'mo_sin_rcnt_tl', 'mort_acc', 'mths_since_recent_bc', 'mths_since_recent_bc_dlq', 'mths_since_recent_inq', 'mths_since_recent_revol_delinq','num_accts_ever_120_pd', 'num_actv_bc_tl', 'num_actv_rev_tl', 'num_bc_sats', 'num_bc_tl', 'num_il_tl', 'num_op_rev_tl', 'num_rev_accts', 'num_rev_tl_bal_gt_0', 'num_sats', 'num_tl_120dpd_2m', 'num_tl_30dpd', 'num_tl_90g_dpd_24m', 'num_tl_op_past_12m', 'pct_tl_nvr_dlq', 'percent_bc_gt_75', 'tax_liens', 'tot_hi_cred_lim', 'total_bal_ex_mort', 'total_bc_limit', 'total_il_high_credit_limit', 'earliest_cr_line', 'inq_last_6mths', 'mths_since_last_delinq', 'mths_since_last_record', 'open_acc', 'pub_rec', 'sub_grade', 'pymnt_plan', 'url', 'desc', 'purpose', 'title', 'zip_code', 'id']"
   ]
  },
  {
   "cell_type": "code",
   "execution_count": 30,
   "id": "eb34fd46",
   "metadata": {},
   "outputs": [],
   "source": [
    "inp0.drop(columns = drp_colset_2, inplace = True)"
   ]
  },
  {
   "cell_type": "code",
   "execution_count": 31,
   "id": "ce955b15",
   "metadata": {},
   "outputs": [
    {
     "data": {
      "text/plain": [
       "(39717, 19)"
      ]
     },
     "execution_count": 31,
     "metadata": {},
     "output_type": "execute_result"
    }
   ],
   "source": [
    "inp0.shape"
   ]
  },
  {
   "cell_type": "code",
   "execution_count": null,
   "id": "d375c7a4",
   "metadata": {},
   "outputs": [],
   "source": [
    "# drop values in home_ownership as None if its needed"
   ]
  },
  {
   "cell_type": "code",
   "execution_count": 46,
   "id": "9136a9f8",
   "metadata": {},
   "outputs": [],
   "source": [
    "#Impute loan_status values == \"Current\"\n",
    "\n",
    "inp0 = inp0[~(inp0.loan_status == \"Current\")]"
   ]
  },
  {
   "cell_type": "code",
   "execution_count": 47,
   "id": "7438e095",
   "metadata": {},
   "outputs": [
    {
     "name": "stderr",
     "output_type": "stream",
     "text": [
      "C:\\Users\\drawat01\\Anaconda3\\lib\\site-packages\\seaborn\\_decorators.py:36: FutureWarning: Pass the following variable as a keyword arg: x. From version 0.12, the only valid positional argument will be `data`, and passing other arguments without an explicit keyword will result in an error or misinterpretation.\n",
      "  warnings.warn(\n"
     ]
    },
    {
     "data": {
      "image/png": "[encoded data removed]",
      "text/plain": [
       "<Figure size 432x288 with 1 Axes>"
      ]
     },
     "metadata": {
      "needs_background": "light"
     },
     "output_type": "display_data"
    }
   ],
   "source": [
    "## example of Univariate chart where-in Loan Status is compared on count ## \n",
    "## In the below bar chart we find that most of the loan applicants in the data set available have fully paid the loans ##\n",
    "import matplotlib.pyplot as plt\n",
    "import seaborn as sns\n",
    "sns.countplot(inp0['loan_status'])\n",
    "plt.show()"
   ]
  },
  {
   "cell_type": "code",
   "execution_count": null,
   "id": "b4a6854b",
   "metadata": {},
   "outputs": [],
   "source": [
    "sns.countplot(inp0['loan_status'])\n",
    "plt.show()"
   ]
  },
  {
   "cell_type": "code",
   "execution_count": 51,
   "id": "cf76e270",
   "metadata": {},
   "outputs": [],
   "source": [
    "inp0 = inp0[~(inp0.home_ownership.isnull())]"
   ]
  },
  {
   "cell_type": "code",
   "execution_count": 52,
   "id": "0cfa18a0",
   "metadata": {},
   "outputs": [
    {
     "name": "stderr",
     "output_type": "stream",
     "text": [
      "C:\\Users\\drawat01\\Anaconda3\\lib\\site-packages\\seaborn\\_decorators.py:36: FutureWarning: Pass the following variable as a keyword arg: x. From version 0.12, the only valid positional argument will be `data`, and passing other arguments without an explicit keyword will result in an error or misinterpretation.\n",
      "  warnings.warn(\n"
     ]
    },
    {
     "data": {
      "image/png": "[encoded data removed]",
      "text/plain": [
       "<Figure size 432x288 with 1 Axes>"
      ]
     },
     "metadata": {
      "needs_background": "light"
     },
     "output_type": "display_data"
    }
   ],
   "source": [
    "## example of Univariate chart where-in Home Ownership is compared on count ## \n",
    "## In the below bar chart we find that most of the loan applicants in the data set available are either on Rent or have Mortgage along ##\n",
    "sns.countplot(inp0['home_ownership'])\n",
    "plt.show()"
   ]
  },
  {
   "cell_type": "code",
   "execution_count": 53,
   "id": "767ec3a4",
   "metadata": {},
   "outputs": [
    {
     "data": {
      "text/plain": [
       "(array([-1.,  0.,  1.,  2.,  3.,  4.,  5.,  6.]),\n",
       " [Text(-1.0, 0, 'All'),\n",
       "  Text(0.0, 0, 'MORTGAGE'),\n",
       "  Text(1.0, 0, 'NONE'),\n",
       "  Text(2.0, 0, 'OTHER'),\n",
       "  Text(3.0, 0, 'OWN'),\n",
       "  Text(4.0, 0, 'RENT'),\n",
       "  Text(5.0, 0, 'All'),\n",
       "  Text(6.0, 0, '')])"
      ]
     },
     "execution_count": 53,
     "metadata": {},
     "output_type": "execute_result"
    },
    {
     "data": {
      "image/png": "[encoded data removed]",
      "text/plain": [
       "<Figure size 432x288 with 1 Axes>"
      ]
     },
     "metadata": {
      "needs_background": "light"
     },
     "output_type": "display_data"
    }
   ],
   "source": [
    "# Biivariate chart --> It shows how many laon applicants / members are there corresponding to individual's home ownership status\n",
    "# Per chart highest number of loan applicants were on Rent and then followed by ones which already had Mortgage\n",
    "\n",
    "pltChart = pd.pivot_table(inp0, index = [\"home_ownership\"], values = [\"member_id\"], aggfunc='count', margins=True)\n",
    "pltChart.plot(kind=\"line\", title = \"Trends\")\n",
    "plt.xticks(rotation=90)"
   ]
  },
  {
   "cell_type": "code",
   "execution_count": 33,
   "id": "d747f717",
   "metadata": {},
   "outputs": [
    {
     "data": {
      "text/html": [
       "<div>\n",
       "<style scoped>\n",
       "    .dataframe tbody tr th:only-of-type {\n",
       "        vertical-align: middle;\n",
       "    }\n",
       "\n",
       "    .dataframe tbody tr th {\n",
       "        vertical-align: top;\n",
       "    }\n",
       "\n",
       "    .dataframe thead th {\n",
       "        text-align: right;\n",
       "    }\n",
       "</style>\n",
       "<table border=\"1\" class=\"dataframe\">\n",
       "  <thead>\n",
       "    <tr style=\"text-align: right;\">\n",
       "      <th></th>\n",
       "      <th></th>\n",
       "      <th>annual_inc</th>\n",
       "      <th>delinq_2yrs</th>\n",
       "      <th>dti</th>\n",
       "      <th>funded_amnt</th>\n",
       "      <th>funded_amnt_inv</th>\n",
       "      <th>installment</th>\n",
       "      <th>loan_amnt</th>\n",
       "      <th>member_id</th>\n",
       "      <th>pub_rec_bankruptcies</th>\n",
       "      <th>revol_bal</th>\n",
       "    </tr>\n",
       "    <tr>\n",
       "      <th>loan_status</th>\n",
       "      <th>home_ownership</th>\n",
       "      <th></th>\n",
       "      <th></th>\n",
       "      <th></th>\n",
       "      <th></th>\n",
       "      <th></th>\n",
       "      <th></th>\n",
       "      <th></th>\n",
       "      <th></th>\n",
       "      <th></th>\n",
       "      <th></th>\n",
       "    </tr>\n",
       "  </thead>\n",
       "  <tbody>\n",
       "    <tr>\n",
       "      <th rowspan=\"4\" valign=\"top\">Charged Off</th>\n",
       "      <th>MORTGAGE</th>\n",
       "      <td>75242.507172</td>\n",
       "      <td>0.179201</td>\n",
       "      <td>14.230507</td>\n",
       "      <td>13587.236786</td>\n",
       "      <td>12534.848099</td>\n",
       "      <td>380.054018</td>\n",
       "      <td>14095.186936</td>\n",
       "      <td>8.708351e+05</td>\n",
       "      <td>0.078474</td>\n",
       "      <td>17732.732273</td>\n",
       "    </tr>\n",
       "    <tr>\n",
       "      <th>OTHER</th>\n",
       "      <td>63433.055556</td>\n",
       "      <td>0.388889</td>\n",
       "      <td>13.128889</td>\n",
       "      <td>13326.388889</td>\n",
       "      <td>9546.124229</td>\n",
       "      <td>444.305556</td>\n",
       "      <td>13747.222222</td>\n",
       "      <td>4.376609e+05</td>\n",
       "      <td>0.111111</td>\n",
       "      <td>14667.500000</td>\n",
       "    </tr>\n",
       "    <tr>\n",
       "      <th>OWN</th>\n",
       "      <td>53908.049707</td>\n",
       "      <td>0.212190</td>\n",
       "      <td>13.793521</td>\n",
       "      <td>10761.455982</td>\n",
       "      <td>9950.402801</td>\n",
       "      <td>307.466953</td>\n",
       "      <td>11015.293454</td>\n",
       "      <td>8.697755e+05</td>\n",
       "      <td>0.069767</td>\n",
       "      <td>11763.950339</td>\n",
       "    </tr>\n",
       "    <tr>\n",
       "      <th>RENT</th>\n",
       "      <td>53246.224315</td>\n",
       "      <td>0.155689</td>\n",
       "      <td>13.850042</td>\n",
       "      <td>10395.095104</td>\n",
       "      <td>9646.428774</td>\n",
       "      <td>304.003417</td>\n",
       "      <td>10632.141599</td>\n",
       "      <td>8.676363e+05</td>\n",
       "      <td>0.057194</td>\n",
       "      <td>10322.344487</td>\n",
       "    </tr>\n",
       "    <tr>\n",
       "      <th>Current</th>\n",
       "      <th>MORTGAGE</th>\n",
       "      <td>85675.504765</td>\n",
       "      <td>0.155172</td>\n",
       "      <td>14.702806</td>\n",
       "      <td>17878.056426</td>\n",
       "      <td>17669.228223</td>\n",
       "      <td>426.192100</td>\n",
       "      <td>18588.714734</td>\n",
       "      <td>1.123146e+06</td>\n",
       "      <td>0.036050</td>\n",
       "      <td>19464.633229</td>\n",
       "    </tr>\n",
       "  </tbody>\n",
       "</table>\n",
       "</div>"
      ],
      "text/plain": [
       "                              annual_inc  delinq_2yrs        dti  \\\n",
       "loan_status home_ownership                                         \n",
       "Charged Off MORTGAGE        75242.507172     0.179201  14.230507   \n",
       "            OTHER           63433.055556     0.388889  13.128889   \n",
       "            OWN             53908.049707     0.212190  13.793521   \n",
       "            RENT            53246.224315     0.155689  13.850042   \n",
       "Current     MORTGAGE        85675.504765     0.155172  14.702806   \n",
       "\n",
       "                             funded_amnt  funded_amnt_inv  installment  \\\n",
       "loan_status home_ownership                                               \n",
       "Charged Off MORTGAGE        13587.236786     12534.848099   380.054018   \n",
       "            OTHER           13326.388889      9546.124229   444.305556   \n",
       "            OWN             10761.455982      9950.402801   307.466953   \n",
       "            RENT            10395.095104      9646.428774   304.003417   \n",
       "Current     MORTGAGE        17878.056426     17669.228223   426.192100   \n",
       "\n",
       "                               loan_amnt     member_id  pub_rec_bankruptcies  \\\n",
       "loan_status home_ownership                                                     \n",
       "Charged Off MORTGAGE        14095.186936  8.708351e+05              0.078474   \n",
       "            OTHER           13747.222222  4.376609e+05              0.111111   \n",
       "            OWN             11015.293454  8.697755e+05              0.069767   \n",
       "            RENT            10632.141599  8.676363e+05              0.057194   \n",
       "Current     MORTGAGE        18588.714734  1.123146e+06              0.036050   \n",
       "\n",
       "                               revol_bal  \n",
       "loan_status home_ownership                \n",
       "Charged Off MORTGAGE        17732.732273  \n",
       "            OTHER           14667.500000  \n",
       "            OWN             11763.950339  \n",
       "            RENT            10322.344487  \n",
       "Current     MORTGAGE        19464.633229  "
      ]
     },
     "execution_count": 33,
     "metadata": {},
     "output_type": "execute_result"
    }
   ],
   "source": [
    "pd.pivot_table(data=inp0, index = [\"loan_status\", \"home_ownership\"]).head()"
   ]
  },
  {
   "cell_type": "code",
   "execution_count": 34,
   "id": "f8206416",
   "metadata": {},
   "outputs": [
    {
     "data": {
      "text/html": [
       "<div>\n",
       "<style scoped>\n",
       "    .dataframe tbody tr th:only-of-type {\n",
       "        vertical-align: middle;\n",
       "    }\n",
       "\n",
       "    .dataframe tbody tr th {\n",
       "        vertical-align: top;\n",
       "    }\n",
       "\n",
       "    .dataframe thead th {\n",
       "        text-align: right;\n",
       "    }\n",
       "</style>\n",
       "<table border=\"1\" class=\"dataframe\">\n",
       "  <thead>\n",
       "    <tr style=\"text-align: right;\">\n",
       "      <th></th>\n",
       "      <th></th>\n",
       "      <th>member_id</th>\n",
       "    </tr>\n",
       "    <tr>\n",
       "      <th>home_ownership</th>\n",
       "      <th>loan_status</th>\n",
       "      <th></th>\n",
       "    </tr>\n",
       "  </thead>\n",
       "  <tbody>\n",
       "    <tr>\n",
       "      <th rowspan=\"3\" valign=\"top\">MORTGAGE</th>\n",
       "      <th>Charged Off</th>\n",
       "      <td>2327</td>\n",
       "    </tr>\n",
       "    <tr>\n",
       "      <th>Current</th>\n",
       "      <td>638</td>\n",
       "    </tr>\n",
       "    <tr>\n",
       "      <th>Fully Paid</th>\n",
       "      <td>14694</td>\n",
       "    </tr>\n",
       "    <tr>\n",
       "      <th>NONE</th>\n",
       "      <th>Fully Paid</th>\n",
       "      <td>3</td>\n",
       "    </tr>\n",
       "    <tr>\n",
       "      <th rowspan=\"2\" valign=\"top\">OTHER</th>\n",
       "      <th>Charged Off</th>\n",
       "      <td>18</td>\n",
       "    </tr>\n",
       "    <tr>\n",
       "      <th>Fully Paid</th>\n",
       "      <td>80</td>\n",
       "    </tr>\n",
       "    <tr>\n",
       "      <th rowspan=\"3\" valign=\"top\">OWN</th>\n",
       "      <th>Charged Off</th>\n",
       "      <td>443</td>\n",
       "    </tr>\n",
       "    <tr>\n",
       "      <th>Current</th>\n",
       "      <td>83</td>\n",
       "    </tr>\n",
       "    <tr>\n",
       "      <th>Fully Paid</th>\n",
       "      <td>2532</td>\n",
       "    </tr>\n",
       "    <tr>\n",
       "      <th rowspan=\"3\" valign=\"top\">RENT</th>\n",
       "      <th>Charged Off</th>\n",
       "      <td>2839</td>\n",
       "    </tr>\n",
       "    <tr>\n",
       "      <th>Current</th>\n",
       "      <td>419</td>\n",
       "    </tr>\n",
       "    <tr>\n",
       "      <th>Fully Paid</th>\n",
       "      <td>15641</td>\n",
       "    </tr>\n",
       "    <tr>\n",
       "      <th>All</th>\n",
       "      <th></th>\n",
       "      <td>39717</td>\n",
       "    </tr>\n",
       "  </tbody>\n",
       "</table>\n",
       "</div>"
      ],
      "text/plain": [
       "                            member_id\n",
       "home_ownership loan_status           \n",
       "MORTGAGE       Charged Off       2327\n",
       "               Current            638\n",
       "               Fully Paid       14694\n",
       "NONE           Fully Paid           3\n",
       "OTHER          Charged Off         18\n",
       "               Fully Paid          80\n",
       "OWN            Charged Off        443\n",
       "               Current             83\n",
       "               Fully Paid        2532\n",
       "RENT           Charged Off       2839\n",
       "               Current            419\n",
       "               Fully Paid       15641\n",
       "All                             39717"
      ]
     },
     "execution_count": 34,
     "metadata": {},
     "output_type": "execute_result"
    }
   ],
   "source": [
    "# Bivariate Analysis around count of Members - represents Under Home Ownership Segment bifurcated into loan Status applicable##\n",
    "pd.pivot_table(inp0, index = [\"home_ownership\", \"loan_status\"], values = [\"member_id\"], aggfunc='count', margins=True)"
   ]
  },
  {
   "cell_type": "code",
   "execution_count": 35,
   "id": "88d30a54",
   "metadata": {},
   "outputs": [
    {
     "data": {
      "text/plain": [
       "pandas.core.frame.DataFrame"
      ]
     },
     "execution_count": 35,
     "metadata": {},
     "output_type": "execute_result"
    }
   ],
   "source": [
    "table = pd.pivot_table(inp0, index = [\"home_ownership\", \"loan_status\"], values = [\"member_id\"], aggfunc='count', margins=True)\n",
    "type(table)"
   ]
  },
  {
   "cell_type": "code",
   "execution_count": 36,
   "id": "5b3b7d58",
   "metadata": {},
   "outputs": [
    {
     "data": {
      "text/html": [
       "<div>\n",
       "<style scoped>\n",
       "    .dataframe tbody tr th:only-of-type {\n",
       "        vertical-align: middle;\n",
       "    }\n",
       "\n",
       "    .dataframe tbody tr th {\n",
       "        vertical-align: top;\n",
       "    }\n",
       "\n",
       "    .dataframe thead th {\n",
       "        text-align: right;\n",
       "    }\n",
       "</style>\n",
       "<table border=\"1\" class=\"dataframe\">\n",
       "  <thead>\n",
       "    <tr style=\"text-align: right;\">\n",
       "      <th></th>\n",
       "      <th></th>\n",
       "      <th>member_id</th>\n",
       "    </tr>\n",
       "    <tr>\n",
       "      <th>home_ownership</th>\n",
       "      <th>loan_status</th>\n",
       "      <th></th>\n",
       "    </tr>\n",
       "  </thead>\n",
       "  <tbody>\n",
       "    <tr>\n",
       "      <th rowspan=\"2\" valign=\"top\">MORTGAGE</th>\n",
       "      <th>Charged Off</th>\n",
       "      <td>2327</td>\n",
       "    </tr>\n",
       "    <tr>\n",
       "      <th>Fully Paid</th>\n",
       "      <td>14694</td>\n",
       "    </tr>\n",
       "    <tr>\n",
       "      <th>NONE</th>\n",
       "      <th>Fully Paid</th>\n",
       "      <td>3</td>\n",
       "    </tr>\n",
       "    <tr>\n",
       "      <th rowspan=\"2\" valign=\"top\">OTHER</th>\n",
       "      <th>Charged Off</th>\n",
       "      <td>18</td>\n",
       "    </tr>\n",
       "    <tr>\n",
       "      <th>Fully Paid</th>\n",
       "      <td>80</td>\n",
       "    </tr>\n",
       "    <tr>\n",
       "      <th rowspan=\"2\" valign=\"top\">OWN</th>\n",
       "      <th>Charged Off</th>\n",
       "      <td>443</td>\n",
       "    </tr>\n",
       "    <tr>\n",
       "      <th>Fully Paid</th>\n",
       "      <td>2532</td>\n",
       "    </tr>\n",
       "    <tr>\n",
       "      <th rowspan=\"2\" valign=\"top\">RENT</th>\n",
       "      <th>Charged Off</th>\n",
       "      <td>2839</td>\n",
       "    </tr>\n",
       "    <tr>\n",
       "      <th>Fully Paid</th>\n",
       "      <td>15641</td>\n",
       "    </tr>\n",
       "  </tbody>\n",
       "</table>\n",
       "</div>"
      ],
      "text/plain": [
       "                            member_id\n",
       "home_ownership loan_status           \n",
       "MORTGAGE       Charged Off       2327\n",
       "               Fully Paid       14694\n",
       "NONE           Fully Paid           3\n",
       "OTHER          Charged Off         18\n",
       "               Fully Paid          80\n",
       "OWN            Charged Off        443\n",
       "               Fully Paid        2532\n",
       "RENT           Charged Off       2839\n",
       "               Fully Paid       15641"
      ]
     },
     "execution_count": 36,
     "metadata": {},
     "output_type": "execute_result"
    }
   ],
   "source": [
    "table.query('loan_status == [\"Charged Off\", \"Fully Paid\"]')"
   ]
  },
  {
   "cell_type": "code",
   "execution_count": 55,
   "id": "905a67a0",
   "metadata": {},
   "outputs": [
    {
     "data": {
      "text/plain": [
       "<AxesSubplot:title={'center':'Loan Applicants Trends'}, xlabel='home_ownership,loan_status'>"
      ]
     },
     "execution_count": 55,
     "metadata": {},
     "output_type": "execute_result"
    },
    {
     "data": {
      "image/png": "[encoded data removed]",
      "text/plain": [
       "<Figure size 432x288 with 1 Axes>"
      ]
     },
     "metadata": {
      "needs_background": "light"
     },
     "output_type": "display_data"
    }
   ],
   "source": [
    "#In the below chart we can easily find that maximum number of Loan Applicants with Home Ownership as \"Mortgage\" or \"Rent\" have Fully Paid the loan.\n",
    "# Just after that if we look for Charged Off Loans the numbers are from the members who are on either on Rent or have a Mortgage.\n",
    "pltChart = pd.pivot_table(inp0, index = [\"home_ownership\", \"loan_status\"], values = [\"member_id\"], aggfunc='count', margins=True)\n",
    "pltChart.plot(kind=\"bar\", title = \"Loan Applicants Trends\")"
   ]
  },
  {
   "cell_type": "code",
   "execution_count": 56,
   "id": "ba9c83ce",
   "metadata": {},
   "outputs": [
    {
     "data": {
      "text/plain": [
       "<AxesSubplot:title={'center':'Loan Applicants Verification'}, xlabel='loan_status,verification_status'>"
      ]
     },
     "execution_count": 56,
     "metadata": {},
     "output_type": "execute_result"
    },
    {
     "data": {
      "image/png": "[encoded data removed]",
      "text/plain": [
       "<Figure size 432x288 with 1 Axes>"
      ]
     },
     "metadata": {
      "needs_background": "light"
     },
     "output_type": "display_data"
    }
   ],
   "source": [
    "#In the below chart we can easily find that maximum number of Loan Applicants were not verified properly. Even thought the number of members under non verified ones have fully paid however, the compliance is not followed properly which may lead to future risks.\n",
    "# We also see that there are good number of Non Verified applicants/members which have been charged off too. Also, if there is a good number of members who were verfied and even then, we had few loans charged off. So there, data need to be looked in more detail that what circumstance were observed.\n",
    "pltChart = pd.pivot_table(inp0, index = [\"loan_status\", \"verification_status\"], values = [\"member_id\"], aggfunc='count', margins=True)\n",
    "pltChart.plot(kind=\"bar\", title = \"Loan Applicants Verification\")\n"
   ]
  },
  {
   "cell_type": "code",
   "execution_count": null,
   "id": "2988c69e",
   "metadata": {},
   "outputs": [],
   "source": [
    "## Conclusion ##\n",
    "# From the data analysis done so far, its found that there is around 1/6th of the total number of members\n",
    "# (of data set considered) have been charged off and mostly they were on Rent or had Mortgage and were Not Verified.\n",
    "# A lot of non - compliance count was found related to loan applicant’s verification process.\n"
   ]
  },
  {
   "cell_type": "code",
   "execution_count": null,
   "id": "b2cc10d1",
   "metadata": {},
   "outputs": [],
   "source": []
  }
 ],
 "metadata": {
  "kernelspec": {
   "display_name": "Python 3 (ipykernel)",
   "language": "python",
   "name": "python3"
  },
  "language_info": {
   "codemirror_mode": {
    "name": "ipython",
    "version": 3
   },
   "file_extension": ".py",
   "mimetype": "text/x-python",
   "name": "python",
   "nbconvert_exporter": "python",
   "pygments_lexer": "ipython3",
   "version": "3.9.12"
  }
 },
 "nbformat": 4,
 "nbformat_minor": 5
}
